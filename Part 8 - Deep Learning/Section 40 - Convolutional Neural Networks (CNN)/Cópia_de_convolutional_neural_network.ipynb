{
 "cells": [
  {
   "cell_type": "markdown",
   "metadata": {
    "id": "3DR-eO17geWu"
   },
   "source": [
    "# Convolutional Neural Network"
   ]
  },
  {
   "cell_type": "markdown",
   "metadata": {
    "id": "EMefrVPCg-60"
   },
   "source": [
    "### Importing the libraries"
   ]
  },
  {
   "cell_type": "code",
   "execution_count": 1,
   "metadata": {
    "id": "sCV30xyVhFbE"
   },
   "outputs": [],
   "source": [
    "import tensorflow as tf\n",
    "from keras.preprocessing.image import ImageDataGenerator"
   ]
  },
  {
   "cell_type": "code",
   "execution_count": 2,
   "metadata": {
    "colab": {
     "base_uri": "https://localhost:8080/",
     "height": 35
    },
    "id": "FIleuCAjoFD8",
    "outputId": "617abd94-37fa-496f-e260-a17cdb685d64"
   },
   "outputs": [
    {
     "data": {
      "text/plain": [
       "'2.12.0'"
      ]
     },
     "execution_count": 2,
     "metadata": {},
     "output_type": "execute_result"
    }
   ],
   "source": [
    "tf.__version__"
   ]
  },
  {
   "cell_type": "markdown",
   "metadata": {
    "id": "oxQxCBWyoGPE"
   },
   "source": [
    "## Part 1 - Data Preprocessing"
   ]
  },
  {
   "cell_type": "markdown",
   "metadata": {
    "id": "MvE-heJNo3GG"
   },
   "source": [
    "### Preprocessing the Training set"
   ]
  },
  {
   "cell_type": "code",
   "execution_count": 4,
   "metadata": {
    "id": "5aSDRWv8RUn7"
   },
   "outputs": [
    {
     "name": "stdout",
     "output_type": "stream",
     "text": [
      "Found 8000 images belonging to 2 classes.\n"
     ]
    }
   ],
   "source": [
    "train_datagen = ImageDataGenerator(rescale=1./255,\n",
    "                                    shear_range=0.2,\n",
    "                                    zoom_range=0.2,\n",
    "                                    horizontal_flip=True)\n",
    "\n",
    "training_set = train_datagen.flow_from_directory('dataset/training_set',\n",
    "                                                target_size=(64,64),\n",
    "                                                batch_size=32,\n",
    "                                                class_mode='binary')"
   ]
  },
  {
   "cell_type": "markdown",
   "metadata": {
    "id": "mrCMmGw9pHys"
   },
   "source": [
    "### Preprocessing the Test set"
   ]
  },
  {
   "cell_type": "code",
   "execution_count": 11,
   "metadata": {
    "id": "e37Z8FEyRVCK"
   },
   "outputs": [
    {
     "name": "stdout",
     "output_type": "stream",
     "text": [
      "Found 2000 images belonging to 2 classes.\n"
     ]
    }
   ],
   "source": [
    "test_datagen = ImageDataGenerator(rescale=1./255)\n",
    "test_set = test_datagen.flow_from_directory('dataset/test_set',\n",
    "                                                target_size=(64,64),\n",
    "                                                batch_size=32,\n",
    "                                                class_mode='binary')"
   ]
  },
  {
   "cell_type": "markdown",
   "metadata": {
    "id": "af8O4l90gk7B"
   },
   "source": [
    "## Part 2 - Building the CNN"
   ]
  },
  {
   "cell_type": "markdown",
   "metadata": {
    "id": "ces1gXY2lmoX"
   },
   "source": [
    "### Initialising the CNN"
   ]
  },
  {
   "cell_type": "code",
   "execution_count": 12,
   "metadata": {
    "id": "VYktWvHQ5ddf"
   },
   "outputs": [],
   "source": [
    "cnn = tf.keras.models.Sequential()"
   ]
  },
  {
   "cell_type": "markdown",
   "metadata": {
    "id": "u5YJj_XMl5LF"
   },
   "source": [
    "### Step 1 - Convolution"
   ]
  },
  {
   "cell_type": "code",
   "execution_count": 13,
   "metadata": {
    "id": "VBOBaSW55d4N"
   },
   "outputs": [],
   "source": [
    "cnn.add(tf.keras.layers.Conv2D(filters=32, kernel_size=3, activation='relu', input_shape=[64, 64, 3]))"
   ]
  },
  {
   "cell_type": "markdown",
   "metadata": {
    "id": "tf87FpvxmNOJ"
   },
   "source": [
    "### Step 2 - Pooling"
   ]
  },
  {
   "cell_type": "code",
   "execution_count": 14,
   "metadata": {
    "id": "WiBlrVuu5eY5"
   },
   "outputs": [],
   "source": [
    "cnn.add(tf.keras.layers.MaxPool2D(pool_size=2, strides=2))"
   ]
  },
  {
   "cell_type": "markdown",
   "metadata": {
    "id": "xaTOgD8rm4mU"
   },
   "source": [
    "### Adding a second convolutional layer"
   ]
  },
  {
   "cell_type": "code",
   "execution_count": 15,
   "metadata": {
    "id": "sPiRScil5e84"
   },
   "outputs": [],
   "source": [
    "cnn.add(tf.keras.layers.Conv2D(filters=32, kernel_size=3, activation='relu'))\n",
    "cnn.add(tf.keras.layers.MaxPool2D(pool_size=2, strides=2))"
   ]
  },
  {
   "cell_type": "markdown",
   "metadata": {
    "id": "tmiEuvTunKfk"
   },
   "source": [
    "### Step 3 - Flattening"
   ]
  },
  {
   "cell_type": "code",
   "execution_count": 16,
   "metadata": {
    "id": "PuX8oZro5fVu"
   },
   "outputs": [],
   "source": [
    "cnn.add(tf.keras.layers.Flatten())"
   ]
  },
  {
   "cell_type": "markdown",
   "metadata": {
    "id": "dAoSECOm203v"
   },
   "source": [
    "### Step 4 - Full Connection"
   ]
  },
  {
   "cell_type": "code",
   "execution_count": 17,
   "metadata": {
    "id": "5UONI9W15ftp"
   },
   "outputs": [],
   "source": [
    "cnn.add(tf.keras.layers.Dense(units=128, activation='relu'))"
   ]
  },
  {
   "cell_type": "markdown",
   "metadata": {
    "id": "yTldFvbX28Na"
   },
   "source": [
    "### Step 5 - Output Layer"
   ]
  },
  {
   "cell_type": "code",
   "execution_count": 18,
   "metadata": {
    "id": "B5PCdDX25gE8"
   },
   "outputs": [],
   "source": [
    "cnn.add(tf.keras.layers.Dense(units=1, activation='sigmoid'))"
   ]
  },
  {
   "cell_type": "markdown",
   "metadata": {
    "id": "D6XkI90snSDl"
   },
   "source": [
    "## Part 3 - Training the CNN"
   ]
  },
  {
   "cell_type": "markdown",
   "metadata": {
    "id": "vfrFQACEnc6i"
   },
   "source": [
    "### Compiling the CNN"
   ]
  },
  {
   "cell_type": "code",
   "execution_count": 19,
   "metadata": {
    "id": "gMqtf0ir5gun"
   },
   "outputs": [],
   "source": [
    "cnn.compile(optimizer='adam', loss='binary_crossentropy', metrics=['accuracy'])"
   ]
  },
  {
   "cell_type": "markdown",
   "metadata": {
    "id": "ehS-v3MIpX2h"
   },
   "source": [
    "### Training the CNN on the Training set and evaluating it on the Test set"
   ]
  },
  {
   "cell_type": "code",
   "execution_count": 20,
   "metadata": {
    "id": "rW-Djmsi5hE7"
   },
   "outputs": [
    {
     "name": "stdout",
     "output_type": "stream",
     "text": [
      "Epoch 1/25\n",
      "250/250 [==============================] - 112s 445ms/step - loss: 0.6482 - accuracy: 0.6230 - val_loss: 0.6015 - val_accuracy: 0.7120\n",
      "Epoch 2/25\n",
      "250/250 [==============================] - 33s 134ms/step - loss: 0.5678 - accuracy: 0.7028 - val_loss: 0.5488 - val_accuracy: 0.7380\n",
      "Epoch 3/25\n",
      "250/250 [==============================] - 35s 140ms/step - loss: 0.5330 - accuracy: 0.7314 - val_loss: 0.5183 - val_accuracy: 0.7465\n",
      "Epoch 4/25\n",
      "250/250 [==============================] - 34s 135ms/step - loss: 0.5054 - accuracy: 0.7541 - val_loss: 0.4981 - val_accuracy: 0.7720\n",
      "Epoch 5/25\n",
      "250/250 [==============================] - 35s 141ms/step - loss: 0.4868 - accuracy: 0.7635 - val_loss: 0.4937 - val_accuracy: 0.7675\n",
      "Epoch 6/25\n",
      "250/250 [==============================] - 34s 138ms/step - loss: 0.4689 - accuracy: 0.7791 - val_loss: 0.4889 - val_accuracy: 0.7700\n",
      "Epoch 7/25\n",
      "250/250 [==============================] - 34s 137ms/step - loss: 0.4572 - accuracy: 0.7832 - val_loss: 0.5512 - val_accuracy: 0.7120\n",
      "Epoch 8/25\n",
      "250/250 [==============================] - 34s 137ms/step - loss: 0.4356 - accuracy: 0.7914 - val_loss: 0.4791 - val_accuracy: 0.7915\n",
      "Epoch 9/25\n",
      "250/250 [==============================] - 35s 138ms/step - loss: 0.4190 - accuracy: 0.8040 - val_loss: 0.5135 - val_accuracy: 0.7755\n",
      "Epoch 10/25\n",
      "250/250 [==============================] - 35s 139ms/step - loss: 0.4067 - accuracy: 0.8104 - val_loss: 0.4574 - val_accuracy: 0.7990\n",
      "Epoch 11/25\n",
      "250/250 [==============================] - 36s 143ms/step - loss: 0.3958 - accuracy: 0.8167 - val_loss: 0.4670 - val_accuracy: 0.7875\n",
      "Epoch 12/25\n",
      "250/250 [==============================] - 33s 134ms/step - loss: 0.3815 - accuracy: 0.8273 - val_loss: 0.4528 - val_accuracy: 0.7925\n",
      "Epoch 13/25\n",
      "250/250 [==============================] - 34s 134ms/step - loss: 0.3689 - accuracy: 0.8310 - val_loss: 0.4589 - val_accuracy: 0.7845\n",
      "Epoch 14/25\n",
      "250/250 [==============================] - 36s 143ms/step - loss: 0.3501 - accuracy: 0.8431 - val_loss: 0.4876 - val_accuracy: 0.7870\n",
      "Epoch 15/25\n",
      "250/250 [==============================] - 44s 175ms/step - loss: 0.3409 - accuracy: 0.8512 - val_loss: 0.5173 - val_accuracy: 0.7820\n",
      "Epoch 16/25\n",
      "250/250 [==============================] - 36s 145ms/step - loss: 0.3273 - accuracy: 0.8569 - val_loss: 0.5113 - val_accuracy: 0.8020\n",
      "Epoch 17/25\n",
      "250/250 [==============================] - 54s 216ms/step - loss: 0.3103 - accuracy: 0.8644 - val_loss: 0.4459 - val_accuracy: 0.8040\n",
      "Epoch 18/25\n",
      "250/250 [==============================] - 44s 177ms/step - loss: 0.2928 - accuracy: 0.8741 - val_loss: 0.4743 - val_accuracy: 0.8095\n",
      "Epoch 19/25\n",
      "250/250 [==============================] - 48s 193ms/step - loss: 0.2893 - accuracy: 0.8755 - val_loss: 0.4654 - val_accuracy: 0.8090\n",
      "Epoch 20/25\n",
      "250/250 [==============================] - 49s 197ms/step - loss: 0.2807 - accuracy: 0.8777 - val_loss: 0.4657 - val_accuracy: 0.8160\n",
      "Epoch 21/25\n",
      "250/250 [==============================] - 41s 163ms/step - loss: 0.2569 - accuracy: 0.8882 - val_loss: 0.5332 - val_accuracy: 0.8040\n",
      "Epoch 22/25\n",
      "250/250 [==============================] - 35s 141ms/step - loss: 0.2387 - accuracy: 0.9019 - val_loss: 0.6982 - val_accuracy: 0.7550\n",
      "Epoch 23/25\n",
      "250/250 [==============================] - 35s 139ms/step - loss: 0.2382 - accuracy: 0.9030 - val_loss: 0.5829 - val_accuracy: 0.7885\n",
      "Epoch 24/25\n",
      "250/250 [==============================] - 35s 138ms/step - loss: 0.2261 - accuracy: 0.9039 - val_loss: 0.6259 - val_accuracy: 0.7950\n",
      "Epoch 25/25\n",
      "250/250 [==============================] - 35s 139ms/step - loss: 0.2133 - accuracy: 0.9104 - val_loss: 0.6160 - val_accuracy: 0.8065\n"
     ]
    },
    {
     "data": {
      "text/plain": [
       "<keras.callbacks.History at 0x1c5bf0139a0>"
      ]
     },
     "execution_count": 20,
     "metadata": {},
     "output_type": "execute_result"
    }
   ],
   "source": [
    "cnn.fit(x = training_set, validation_data = test_set, epochs = 25)"
   ]
  },
  {
   "cell_type": "markdown",
   "metadata": {
    "id": "U3PZasO0006Z"
   },
   "source": [
    "## Part 4 - Making a single prediction"
   ]
  },
  {
   "cell_type": "code",
   "execution_count": 35,
   "metadata": {
    "id": "8eQRUHh95hf_"
   },
   "outputs": [
    {
     "ename": "AttributeError",
     "evalue": "module 'keras.preprocessing.image' has no attribute 'load_img'",
     "output_type": "error",
     "traceback": [
      "\u001b[1;31m---------------------------------------------------------------------------\u001b[0m",
      "\u001b[1;31mAttributeError\u001b[0m                            Traceback (most recent call last)",
      "\u001b[1;32m~\\AppData\\Local\\Temp\\ipykernel_26896\\365783419.py\u001b[0m in \u001b[0;36m<module>\u001b[1;34m\u001b[0m\n\u001b[0;32m      9\u001b[0m \u001b[1;33m\u001b[0m\u001b[0m\n\u001b[0;32m     10\u001b[0m \u001b[1;33m\u001b[0m\u001b[0m\n\u001b[1;32m---> 11\u001b[1;33m test_image = image.load_img('dataset/single_prediction/cat_or_dog_2.jpg',\n\u001b[0m\u001b[0;32m     12\u001b[0m \u001b[1;33m\u001b[0m\u001b[0m\n\u001b[0;32m     13\u001b[0m \u001b[0mtarget_size\u001b[0m \u001b[1;33m=\u001b[0m \u001b[1;33m(\u001b[0m\u001b[1;36m64\u001b[0m\u001b[1;33m,\u001b[0m\u001b[1;36m64\u001b[0m\u001b[1;33m)\u001b[0m\u001b[1;33m\u001b[0m\u001b[1;33m\u001b[0m\u001b[0m\n",
      "\u001b[1;31mAttributeError\u001b[0m: module 'keras.preprocessing.image' has no attribute 'load_img'"
     ]
    }
   ],
   "source": [
    "\n",
    "#Predicting class of a single image\n",
    "\n",
    "\n",
    "\n",
    "import numpy as np\n",
    "\n",
    "from keras.preprocessing import image\n",
    "\n",
    "\n",
    "\n",
    "test_image = image.load_img('dataset/single_prediction/cat_or_dog_2.jpg',\n",
    "\n",
    "target_size = (64,64)\n",
    "\n",
    ")\n",
    "\n",
    "\n",
    "\n",
    "#convert test image to numpy array format\n",
    "\n",
    "test_image = image.img_to_array(test_image)\n",
    "\n",
    "\n",
    "\n",
    "test_image = np.expand_dims(test_image, axis = 0)\n",
    "\n",
    "\n",
    "\n",
    "result = model.predict(test_image)\n",
    "\n",
    "\n",
    "\n",
    "#to know which class is dog and cat\n",
    "\n",
    "print(train.class_indices)\n",
    "\n",
    "\n",
    "\n",
    "if result[0][0] == 1:\n",
    "\n",
    "    print(\"Dog\")\n",
    "\n",
    "else:\n",
    "\n",
    "    print('Cat')"
   ]
  },
  {
   "cell_type": "code",
   "execution_count": 24,
   "metadata": {},
   "outputs": [
    {
     "name": "stdout",
     "output_type": "stream",
     "text": [
      "Requirement already satisfied: keras in c:\\users\\eel20\\anaconda3\\lib\\site-packages (2.12.0)\n"
     ]
    }
   ],
   "source": [
    "!pip install keras"
   ]
  },
  {
   "cell_type": "code",
   "execution_count": 28,
   "metadata": {},
   "outputs": [
    {
     "ename": "NameError",
     "evalue": "name 'prediction' is not defined",
     "output_type": "error",
     "traceback": [
      "\u001b[1;31m---------------------------------------------------------------------------\u001b[0m",
      "\u001b[1;31mNameError\u001b[0m                                 Traceback (most recent call last)",
      "\u001b[1;32m~\\AppData\\Local\\Temp\\ipykernel_26896\\2641910672.py\u001b[0m in \u001b[0;36m<module>\u001b[1;34m\u001b[0m\n\u001b[1;32m----> 1\u001b[1;33m \u001b[0mprint\u001b[0m\u001b[1;33m(\u001b[0m\u001b[0mprediction\u001b[0m\u001b[1;33m)\u001b[0m\u001b[1;33m\u001b[0m\u001b[1;33m\u001b[0m\u001b[0m\n\u001b[0m",
      "\u001b[1;31mNameError\u001b[0m: name 'prediction' is not defined"
     ]
    }
   ],
   "source": [
    "print(prediction)"
   ]
  },
  {
   "cell_type": "code",
   "execution_count": null,
   "metadata": {},
   "outputs": [],
   "source": []
  }
 ],
 "metadata": {
  "colab": {
   "provenance": []
  },
  "kernelspec": {
   "display_name": "Python 3 (ipykernel)",
   "language": "python",
   "name": "python3"
  },
  "language_info": {
   "codemirror_mode": {
    "name": "ipython",
    "version": 3
   },
   "file_extension": ".py",
   "mimetype": "text/x-python",
   "name": "python",
   "nbconvert_exporter": "python",
   "pygments_lexer": "ipython3",
   "version": "3.9.13"
  }
 },
 "nbformat": 4,
 "nbformat_minor": 1
}
